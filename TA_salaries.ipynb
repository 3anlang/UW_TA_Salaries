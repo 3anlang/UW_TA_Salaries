{
 "cells": [
  {
   "cell_type": "code",
   "execution_count": 1,
   "id": "f8a80728-3911-483b-849e-23b91ea4c4cc",
   "metadata": {},
   "outputs": [],
   "source": [
    "from ipywidgets import interact_manual, widgets, HBox, VBox\n",
    "import numpy as np\n",
    "import matplotlib.pyplot as plt"
   ]
  },
  {
   "cell_type": "code",
   "execution_count": 2,
   "id": "2b10f53d-21f2-4aec-bc1f-59c411dd5e47",
   "metadata": {},
   "outputs": [],
   "source": [
    "year = np.arange(2014, 2027)\n",
    "premaster_hist = np.array([2121, 2206, 2250, 2295, 2341, 2388, 2436, 2510, 2586, 2664])\n",
    "intermediate_hist = np.array([2215, 2304, 2350, 2467, 2516, 2567, 2619, 2698, 2779, 2863])\n",
    "candidate_hist = np.array([2451, 2549, 2600, 2650, 2703, 2758, 2814, 2899, 2986, 3076])\n",
    "tax_bracket_hist = np.array([9076, 9266, 9275, 9235, 9525, 9700, 9875, 9950, 10275, 11000, 11600])\n",
    "inflation_hist = np.array([1.86, 1.38, 2.27, 3.08, 3.15, 2.50, 1.64, 5.00, 8.95, 5.66])\n",
    "tax_rate = np.array([15, 15, 15, 15, 12, 12, 12, 12, 12, 12, 12, 12, 12])\n",
    "\n",
    "def plot_salaries(raise2024, raise2025, raise2026, step_raise, tax_bracket2025, \n",
    "                  tax_bracket2026, inflation2024, inflation2025, inflation2026):\n",
    "    premaster_raise = np.array([raise2024, raise2025, raise2026])\n",
    "    tax_bracket_projection = np.array([tax_bracket2025, tax_bracket2026])\n",
    "    inflation_forecast = np.array([inflation2024, inflation2025, inflation2026])\n",
    "\n",
    "\n",
    "    premaster = np.concatenate([premaster_hist, premaster_hist[9] * ((premaster_raise / 100 + 1).cumprod(axis = -1))])\n",
    "    intermediate = np.concatenate([intermediate_hist, premaster_hist[9] * ((premaster_raise / 100 + 1).cumprod(axis = -1)) * (step_raise / 100 + 1)])\n",
    "    candidate = np.concatenate([candidate_hist, premaster_hist[9] * ((premaster_raise / 100 + 1).cumprod(axis = -1)) * (step_raise / 100 + 1) ** 2])\n",
    "    tax_bracket = np.concatenate([tax_bracket_hist, tax_bracket_projection])\n",
    "    first_bracket = tax_bracket * 0.9\n",
    "    inflation = np.concatenate([inflation_hist, inflation_forecast])\n",
    "\n",
    "    premaster_rate_9m = ((premaster * 9 - tax_bracket) * \\\n",
    "                     (100-tax_rate) / 100 + first_bracket) / (inflation / 100 + 1).cumprod(axis = -1)\n",
    "    intermediate_rate_9m = ((intermediate * 9 - tax_bracket) * \\\n",
    "                        (100-tax_rate) / 100 + first_bracket) / (inflation / 100 + 1).cumprod(axis = -1)\n",
    "    candidate_rate_9m = ((candidate * 9 - tax_bracket) * \\\n",
    "                     (100-tax_rate) / 100 + first_bracket) / (inflation / 100 + 1).cumprod(axis = -1)\n",
    "\n",
    "    premaster_rate_12m = ((premaster * 11.4 - tax_bracket) * \\\n",
    "                     (100-tax_rate) / 100 + first_bracket) / (inflation / 100 + 1).cumprod(axis = -1)\n",
    "    intermediate_rate_12m = ((intermediate * 11.4 - tax_bracket) * \\\n",
    "                        (100-tax_rate) / 100 + first_bracket) / (inflation / 100 + 1).cumprod(axis = -1)\n",
    "    candidate_rate_12m = ((candidate * 11.4 - tax_bracket) * \\\n",
    "                     (100-tax_rate) / 100 + first_bracket) / (inflation / 100 + 1).cumprod(axis = -1)\n",
    "    \n",
    "    fig, (ax1, ax2) = plt.subplots(1,2, sharey= True)\n",
    "    fig.set_size_inches(10, 3)\n",
    "    \n",
    "    plt.ylim(10000,30000)\n",
    "    \n",
    "    ax1.plot(year, premaster_rate_9m, label = 'premaster')\n",
    "    ax1.plot(year, intermediate_rate_9m, label = 'intermediate')\n",
    "    ax1.plot(year, candidate_rate_9m, label = 'candidate')\n",
    "    ax1.set_title('Adjusted 9-Month Salaries')\n",
    "    ax1.grid(axis = 'y')\n",
    "    ax1.axvspan(2024, 2026, color='yellow', alpha=0.3)\n",
    "    ax1.legend(loc=\"upper left\", fontsize = 8)\n",
    "    \n",
    "    ax1.yaxis.tick_right()\n",
    "    \n",
    "    ax2.plot(year, premaster_rate_12m, label = 'premaster')\n",
    "    ax2.plot(year, intermediate_rate_12m, label = 'intermediate')\n",
    "    ax2.plot(year, candidate_rate_12m, label = 'candidate')\n",
    "    ax2.set_title('Adjusted 12-Month Salaries')\n",
    "    ax2.grid(axis = 'y')\n",
    "    ax2.axvspan(2024, 2026, color='yellow', alpha=0.3)\n",
    "    ax2.legend(loc=\"upper left\",  fontsize = 8)\n",
    "    \n",
    "    \n",
    "    plt.show()"
   ]
  },
  {
   "cell_type": "code",
   "execution_count": 3,
   "id": "07a1b1f4-4c01-4908-b950-3a30f731ba74",
   "metadata": {},
   "outputs": [],
   "source": [
    "style = {'description_width': 'initial'}\n",
    "\n",
    "raise2024 = widgets.BoundedFloatText(value=12, min=0, max=60.0, step=0.1, description='1st Year Raise:',disabled=False,style=style)\n",
    "raise2025 = widgets.BoundedFloatText(value=10, min=0, max=60.0, step=0.1, description='2nd Year Raise:',disabled=False,style=style)\n",
    "raise2026 = widgets.BoundedFloatText(value=10, min=0, max=60.0, step=0.1, description='3rd Year Raise:',disabled=False,style=style)\n",
    "step_raise = widgets.BoundedFloatText(value=5, min=0, max=60.0, step=0.1,\n",
    "                                               description='Raise for Each Step:',disabled=False,style=style)\n",
    "tax_bracket2025 = widgets.BoundedIntText(value=12200, min=10000, max=14000, description='2nd Tax Bracket for 2025:',disabled=False,style=style)\n",
    "tax_bracket2026 = widgets.BoundedIntText(value=13000, min=10000, max=14000, description='2nd Tax Bracket for 2026:',disabled=False,style=style)\n",
    "inflation2024 = widgets.BoundedFloatText(value=3.77, min=0, max=10.0, step=0.01, description='Inflation for 2024:',disabled=False,style=style)\n",
    "inflation2025 = widgets.BoundedFloatText(value=2.70, min=0, max=10.0, step=0.01, description='Inflation for 2025:',disabled=False,style=style)\n",
    "inflation2026 = widgets.BoundedFloatText(value=2.94, min=0, max=10.0, step=0.01, description='Inflation for 2026:',disabled=False,style=style)"
   ]
  },
  {
   "cell_type": "code",
   "execution_count": 4,
   "id": "31e4c51c-6c0d-45ef-9e28-4945fb45d552",
   "metadata": {},
   "outputs": [
    {
     "data": {
      "application/vnd.jupyter.widget-view+json": {
       "model_id": "425d742dda8d4a15bed32886db18ef71",
       "version_major": 2,
       "version_minor": 0
      },
      "text/plain": [
       "interactive(children=(BoundedFloatText(value=12.0, description='1st Year Raise:', max=60.0, step=0.1, style=De…"
      ]
     },
     "metadata": {},
     "output_type": "display_data"
    },
    {
     "data": {
      "text/plain": [
       "<function __main__.plot_salaries(raise2024, raise2025, raise2026, step_raise, tax_bracket2025, tax_bracket2026, inflation2024, inflation2025, inflation2026)>"
      ]
     },
     "execution_count": 4,
     "metadata": {},
     "output_type": "execute_result"
    }
   ],
   "source": [
    "interact_manual(plot_salaries, raise2024 = raise2024, raise2025 = raise2025, raise2026 = raise2026, step_raise = step_raise,\n",
    "         tax_bracket2025 = tax_bracket2025, tax_bracket2026 = tax_bracket2026,\n",
    "         inflation2024 = inflation2024, inflation2025 = inflation2025, inflation2026 = inflation2026)"
   ]
  }
 ],
 "metadata": {
  "kernelspec": {
   "display_name": "Python 3 (ipykernel)",
   "language": "python",
   "name": "python3"
  },
  "language_info": {
   "codemirror_mode": {
    "name": "ipython",
    "version": 3
   },
   "file_extension": ".py",
   "mimetype": "text/x-python",
   "name": "python",
   "nbconvert_exporter": "python",
   "pygments_lexer": "ipython3",
   "version": "3.12.3"
  }
 },
 "nbformat": 4,
 "nbformat_minor": 5
}
